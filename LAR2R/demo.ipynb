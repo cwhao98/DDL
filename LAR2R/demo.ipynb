{
 "cells": [
  {
   "cell_type": "code",
   "execution_count": 14,
   "metadata": {},
   "outputs": [
    {
     "name": "stdout",
     "output_type": "stream",
     "text": [
      "783\n",
      "'2211'\n",
      "{'17e450ed7bd2429b81d50ebe770937aa': {'0': {'landmark': [7, 8, 9, 10, 11, 12]},\n",
      "                                      '1': {'landmark': [6, 7, 8, 9, 10, 11]},\n",
      "                                      '2': {'landmark': [17,\n",
      "                                                         18,\n",
      "                                                         19,\n",
      "                                                         20,\n",
      "                                                         21,\n",
      "                                                         22,\n",
      "                                                         23,\n",
      "                                                         24,\n",
      "                                                         25,\n",
      "                                                         26]}},\n",
      " '3abee6c9f9d144cead7d659a476ecb07': {'0': {'action': [6]},\n",
      "                                      '1': {'action': [5]},\n",
      "                                      '2': {'action': [16]}},\n",
      " '9f0079fa767e402cb515c7751a13e265': {'0': {'action': [0, 1],\n",
      "                                            'landmark': [2, 3, 4]},\n",
      "                                      '1': {'action': [0, 1],\n",
      "                                            'landmark': [2, 3]},\n",
      "                                      '2': {'action': [0, 1],\n",
      "                                            'landmark': [2, 3]}},\n",
      " 'id': 9}\n"
     ]
    }
   ],
   "source": [
    "import json\n",
    "from pprint import pprint as pp\n",
    "\n",
    "train_path = 'lar2r_train.json'\n",
    "val_seen_path = 'lar2r_val_seen.json'\n",
    "val_unseen_path = 'lar2r_val_unseen.json'\n",
    "\n",
    "a = json.load(open(val_unseen_path, 'r'))\n",
    "\n",
    "key = list(a.keys())\n",
    "\n",
    "pp(len(key))\n",
    "pp(key[9])\n",
    "pp(a[key[9]])\n",
    "# pp(a)"
   ]
  },
  {
   "cell_type": "code",
   "execution_count": null,
   "metadata": {},
   "outputs": [],
   "source": []
  }
 ],
 "metadata": {
  "kernelspec": {
   "display_name": "Python 3",
   "language": "python",
   "name": "python3"
  },
  "language_info": {
   "codemirror_mode": {
    "name": "ipython",
    "version": 3
   },
   "file_extension": ".py",
   "mimetype": "text/x-python",
   "name": "python",
   "nbconvert_exporter": "python",
   "pygments_lexer": "ipython3",
   "version": "3.6.4"
  }
 },
 "nbformat": 4,
 "nbformat_minor": 2
}
